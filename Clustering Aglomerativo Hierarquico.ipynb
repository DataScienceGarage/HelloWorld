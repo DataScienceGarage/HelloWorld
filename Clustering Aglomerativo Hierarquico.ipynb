{
 "cells": [
  {
   "cell_type": "markdown",
   "metadata": {},
   "source": [
    "## Clustering Hierárquico com SciPy"
   ]
  },
  {
   "cell_type": "code",
   "execution_count": 16,
   "metadata": {
    "collapsed": false
   },
   "outputs": [],
   "source": [
    "import numpy as np\n",
    "import pandas as pd\n",
    "import scipy as sp\n",
    "import matplotlib.pyplot as plt\n",
    "\n",
    "from pandas import Series, DataFrame\n",
    "from scipy.cluster.hierarchy import linkage, dendrogram\n",
    "\n",
    "%matplotlib inline"
   ]
  },
  {
   "cell_type": "code",
   "execution_count": 2,
   "metadata": {
    "collapsed": false
   },
   "outputs": [],
   "source": [
    "dados = {'AQL':[1,1,1,0,1,1,1,0,1],\n",
    "         'Clientes':[1,1,0,1,1,1,1,0,0], \n",
    "         'Assinatura':[0,1,0,0,1,0,0,0,0], \n",
    "         'Asia':[1,1,1,0,0,0,1,0,0], \n",
    "         'America':[0,0,0,0,0,0,0,1,0], \n",
    "         'Europa':[0,0,0,1,1,0,0,0,1]}"
   ]
  },
  {
   "cell_type": "code",
   "execution_count": 3,
   "metadata": {
    "collapsed": false
   },
   "outputs": [],
   "source": [
    "df = DataFrame(dados, index = ['AP1','AP2','AP3','AP4', 'AP5', 'AP6', 'AP7', 'AP8', 'AP9'])\n",
    "\n"
   ]
  },
  {
   "cell_type": "code",
   "execution_count": 4,
   "metadata": {
    "collapsed": false
   },
   "outputs": [
    {
     "data": {
      "text/html": [
       "<div>\n",
       "<table border=\"1\" class=\"dataframe\">\n",
       "  <thead>\n",
       "    <tr style=\"text-align: right;\">\n",
       "      <th></th>\n",
       "      <th>AQL</th>\n",
       "      <th>America</th>\n",
       "      <th>Asia</th>\n",
       "      <th>Assinatura</th>\n",
       "      <th>Clientes</th>\n",
       "      <th>Europa</th>\n",
       "    </tr>\n",
       "  </thead>\n",
       "  <tbody>\n",
       "    <tr>\n",
       "      <th>AP1</th>\n",
       "      <td>1</td>\n",
       "      <td>0</td>\n",
       "      <td>1</td>\n",
       "      <td>0</td>\n",
       "      <td>1</td>\n",
       "      <td>0</td>\n",
       "    </tr>\n",
       "    <tr>\n",
       "      <th>AP2</th>\n",
       "      <td>1</td>\n",
       "      <td>0</td>\n",
       "      <td>1</td>\n",
       "      <td>1</td>\n",
       "      <td>1</td>\n",
       "      <td>0</td>\n",
       "    </tr>\n",
       "    <tr>\n",
       "      <th>AP3</th>\n",
       "      <td>1</td>\n",
       "      <td>0</td>\n",
       "      <td>1</td>\n",
       "      <td>0</td>\n",
       "      <td>0</td>\n",
       "      <td>0</td>\n",
       "    </tr>\n",
       "    <tr>\n",
       "      <th>AP4</th>\n",
       "      <td>0</td>\n",
       "      <td>0</td>\n",
       "      <td>0</td>\n",
       "      <td>0</td>\n",
       "      <td>1</td>\n",
       "      <td>1</td>\n",
       "    </tr>\n",
       "    <tr>\n",
       "      <th>AP5</th>\n",
       "      <td>1</td>\n",
       "      <td>0</td>\n",
       "      <td>0</td>\n",
       "      <td>1</td>\n",
       "      <td>1</td>\n",
       "      <td>1</td>\n",
       "    </tr>\n",
       "  </tbody>\n",
       "</table>\n",
       "</div>"
      ],
      "text/plain": [
       "     AQL  America  Asia  Assinatura  Clientes  Europa\n",
       "AP1    1        0     1           0         1       0\n",
       "AP2    1        0     1           1         1       0\n",
       "AP3    1        0     1           0         0       0\n",
       "AP4    0        0     0           0         1       1\n",
       "AP5    1        0     0           1         1       1"
      ]
     },
     "execution_count": 4,
     "metadata": {},
     "output_type": "execute_result"
    }
   ],
   "source": [
    "df.head()"
   ]
  },
  {
   "cell_type": "code",
   "execution_count": 5,
   "metadata": {
    "collapsed": false
   },
   "outputs": [
    {
     "data": {
      "text/plain": [
       "array([[1, 0, 1, 0, 1, 0],\n",
       "       [1, 0, 1, 1, 1, 0],\n",
       "       [1, 0, 1, 0, 0, 0],\n",
       "       [0, 0, 0, 0, 1, 1],\n",
       "       [1, 0, 0, 1, 1, 1],\n",
       "       [1, 0, 0, 0, 1, 0],\n",
       "       [1, 0, 1, 0, 1, 0],\n",
       "       [0, 1, 0, 0, 0, 0],\n",
       "       [1, 0, 0, 0, 0, 1]], dtype=int64)"
      ]
     },
     "execution_count": 5,
     "metadata": {},
     "output_type": "execute_result"
    }
   ],
   "source": [
    "df.values"
   ]
  },
  {
   "cell_type": "markdown",
   "metadata": {},
   "source": [
    "## Criando a Linkage Matrix"
   ]
  },
  {
   "cell_type": "code",
   "execution_count": 6,
   "metadata": {
    "collapsed": false
   },
   "outputs": [
    {
     "name": "stdout",
     "output_type": "stream",
     "text": [
      "Single\n",
      "[[  0.           6.           0.           2.        ]\n",
      " [  1.           9.           0.16666667   3.        ]\n",
      " [  2.          10.           0.16666667   4.        ]\n",
      " [  5.          11.           0.16666667   5.        ]\n",
      " [  3.           8.           0.33333333   2.        ]\n",
      " [  4.          13.           0.33333333   3.        ]\n",
      " [ 12.          14.           0.33333333   8.        ]\n",
      " [  7.          15.           0.5          9.        ]]\n",
      "Complete\n",
      "[[  0.           6.           0.           2.        ]\n",
      " [  1.           9.           0.16666667   3.        ]\n",
      " [  2.           5.           0.33333333   2.        ]\n",
      " [  3.           4.           0.33333333   2.        ]\n",
      " [  8.          12.           0.33333333   3.        ]\n",
      " [ 10.          11.           0.33333333   5.        ]\n",
      " [ 13.          14.           0.66666667   8.        ]\n",
      " [  7.          15.           0.83333333   9.        ]]\n",
      "Average\n",
      "[[  0.           6.           0.           2.        ]\n",
      " [  1.           9.           0.16666667   3.        ]\n",
      " [  2.          10.           0.22222222   4.        ]\n",
      " [  5.          11.           0.25         5.        ]\n",
      " [  3.           4.           0.33333333   2.        ]\n",
      " [  8.          13.           0.33333333   3.        ]\n",
      " [ 12.          14.           0.48888889   8.        ]\n",
      " [  7.          15.           0.625        9.        ]]\n",
      "Weighted\n",
      "[[  0.           6.           0.           2.        ]\n",
      " [  1.           9.           0.16666667   3.        ]\n",
      " [  2.          10.           0.25         4.        ]\n",
      " [  5.          11.           0.29166667   5.        ]\n",
      " [  3.           4.           0.33333333   2.        ]\n",
      " [  8.          13.           0.33333333   3.        ]\n",
      " [ 12.          14.           0.42708333   8.        ]\n",
      " [  7.          15.           0.57291667   9.        ]]\n",
      "Centroid\n",
      "[[  0.           6.           0.           2.        ]\n",
      " [  1.           9.           1.           3.        ]\n",
      " [  2.          10.           1.05409255   4.        ]\n",
      " [  5.          11.           1.06066017   5.        ]\n",
      " [  3.           4.           1.41421356   2.        ]\n",
      " [  8.          13.           1.22474487   3.        ]\n",
      " [ 12.          14.           1.33666251   8.        ]\n",
      " [  7.          15.           1.66770801   9.        ]]\n",
      "Median\n",
      "[[  0.           6.           0.           2.        ]\n",
      " [  1.           9.           1.           3.        ]\n",
      " [  2.          10.           1.11803399   4.        ]\n",
      " [  5.          11.           1.14564392   5.        ]\n",
      " [  8.          12.           1.35208173   6.        ]\n",
      " [  4.          13.           1.25778824   7.        ]\n",
      " [  3.          14.           1.20747994   8.        ]\n",
      " [  7.          15.           1.67391814   9.        ]]\n"
     ]
    }
   ],
   "source": [
    "# As distâncias ('metric') estão aqui: http://docs.scipy.org/doc/scipy-0.15.1/reference/generated/scipy.spatial.distance.pdist.html\n",
    "# Encontra-se tanto para categórico/binario, quanto contínuo e misto\n",
    "\n",
    "linkage_matrix_single = sp.cluster.hierarchy.linkage(df, method='single', metric='matching') \n",
    "linkage_matrix_complete = sp.cluster.hierarchy.linkage(df, method='complete', metric='matching') \n",
    "linkage_matrix_average = sp.cluster.hierarchy.linkage(df, method='average', metric='matching') \n",
    "linkage_matrix_weighted = sp.cluster.hierarchy.linkage(df, method='weighted', metric='matching') \n",
    "linkage_matrix_centroid = sp.cluster.hierarchy.linkage(df, method='centroid', metric='euclidean') \n",
    "linkage_matrix_median = sp.cluster.hierarchy.linkage(df, method='median', metric='euclidean')\n",
    "\n",
    "# a função linkage faz clustering aglomerativo\n",
    "# method é o método que ele usa pra fazer a linkage: single (menor distância), complete (maior distância)\n",
    "# metric é método de cálculo (euclidiano, etc)\n",
    "# IMPORTANTE: Median = WPGMC = GOWER \n",
    "\n",
    "\n",
    "print(\"Single\")\n",
    "print(linkage_matrix_single)\n",
    "print(\"Complete\")\n",
    "print(linkage_matrix_complete)  \n",
    "print(\"Average\")\n",
    "print(linkage_matrix_average)\n",
    "print(\"Weighted\")\n",
    "print(linkage_matrix_weighted)\n",
    "print(\"Centroid\")\n",
    "print(linkage_matrix_centroid)\n",
    "print(\"Median\")\n",
    "print(linkage_matrix_median)\n",
    "\n"
   ]
  },
  {
   "cell_type": "markdown",
   "metadata": {},
   "source": [
    "## Dendrograma"
   ]
  },
  {
   "cell_type": "code",
   "execution_count": 8,
   "metadata": {
    "collapsed": false
   },
   "outputs": [],
   "source": [
    "from scipy.cluster.hierarchy import linkage, dendrogram\n",
    "\n",
    "labels = ['AP1','AP2','AP3','AP4', 'AP5', 'AP6', 'AP7', 'AP8', 'AP9']\n",
    "\n",
    "dendrogram = dendrogram(linkage_matrix_complete, truncate_mode='none', orientation = \"top\", labels = labels)"
   ]
  },
  {
   "cell_type": "code",
   "execution_count": 14,
   "metadata": {
    "collapsed": false
   },
   "outputs": [
    {
     "data": {
      "text/plain": [
       "<matplotlib.text.Text at 0x9a124a8>"
      ]
     },
     "execution_count": 14,
     "metadata": {},
     "output_type": "execute_result"
    },
    {
     "data": {
      "image/png": "[encoded data removed]",
      "text/plain": [
       "<matplotlib.figure.Figure at 0xc6c7438>"
      ]
     },
     "metadata": {},
     "output_type": "display_data"
    }
   ],
   "source": [
    "from scipy.cluster.hierarchy import linkage, dendrogram\n",
    "\n",
    "f, axes = plt.subplots(2, 3, figsize=(7, 7), sharex=False, sharey=False)\n",
    "b, g, r = sns.color_palette(\"muted\", 3)\n",
    "\n",
    "\n",
    "dendrogram(linkage_matrix_single, truncate_mode='none', orientation = \"top\", labels = labels, ax = axes[0,0])\n",
    "dendrogram(linkage_matrix_complete, truncate_mode='none', orientation = \"top\", labels = labels, ax = axes[0,1])\n",
    "dendrogram(linkage_matrix_average, truncate_mode='none', orientation = \"top\", labels = labels, ax = axes[0,2])\n",
    "dendrogram(linkage_matrix_weighted, truncate_mode='none', orientation = \"top\", labels = labels, ax = axes[1,0])\n",
    "dendrogram(linkage_matrix_centroid, truncate_mode='none', orientation = \"top\", labels = labels, ax = axes[1,1])\n",
    "dendrogram(linkage_matrix_median, truncate_mode='none', orientation = \"top\", labels = labels, ax = axes[1,2])\n",
    "\n",
    "axes[0,0].set_title('Single')\n",
    "axes[0,1].set_title('Complete')\n",
    "axes[0,2].set_title('Average')\n",
    "axes[1,0].set_title('Weighted')\n",
    "axes[1,1].set_title('Centroid')\n",
    "axes[1,2].set_title('Median')\n",
    "\n",
    "\n"
   ]
  },
  {
   "cell_type": "code",
   "execution_count": 15,
   "metadata": {
    "collapsed": false
   },
   "outputs": [],
   "source": [
    "# minmax\n",
    "\n",
    "\n",
    "def minmax(item):\n",
    "    for j in item:\n",
    "        return (j-min(item))/(max(item)-min(item))\n",
    "    \n",
    "\n"
   ]
  },
  {
   "cell_type": "code",
   "execution_count": null,
   "metadata": {
    "collapsed": false
   },
   "outputs": [],
   "source": [
    "\n"
   ]
  },
  {
   "cell_type": "code",
   "execution_count": null,
   "metadata": {
    "collapsed": false
   },
   "outputs": [],
   "source": [
    "\n"
   ]
  }
 ],
 "metadata": {
  "kernelspec": {
   "display_name": "Python 3",
   "language": "python",
   "name": "python3"
  },
  "language_info": {
   "codemirror_mode": {
    "name": "ipython",
    "version": 3
   },
   "file_extension": ".py",
   "mimetype": "text/x-python",
   "name": "python",
   "nbconvert_exporter": "python",
   "pygments_lexer": "ipython3",
   "version": "3.4.1"
  }
 },
 "nbformat": 4,
 "nbformat_minor": 0
}
